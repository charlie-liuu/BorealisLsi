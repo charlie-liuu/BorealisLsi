{
 "cells": [
  {
   "cell_type": "code",
   "execution_count": 2,
   "metadata": {},
   "outputs": [],
   "source": [
    "import os\n",
    "import yt_dlp as youtube_dl\n",
    "from yt_dlp import YoutubeDL"
   ]
  },
  {
   "cell_type": "code",
   "execution_count": 3,
   "metadata": {},
   "outputs": [
    {
     "name": "stdout",
     "output_type": "stream",
     "text": [
      "[youtube] Extracting URL: https://www.youtube.com/watch?v=4eNt91uV02o\n",
      "[youtube] 4eNt91uV02o: Downloading webpage\n",
      "[youtube] 4eNt91uV02o: Downloading ios player API JSON\n",
      "[youtube] 4eNt91uV02o: Downloading android player API JSON\n",
      "[youtube] 4eNt91uV02o: Downloading m3u8 information\n",
      "[info] 4eNt91uV02o: Downloading 1 format(s): 18\n",
      "[download] Destination: Harry Potter： The Dream Team (Sign Language)-4eNt91uV02o.mp4\n",
      "[download] 100% of    2.33MiB in 00:00:00 at 4.39MiB/s   \n"
     ]
    }
   ],
   "source": [
    "urls = [\n",
    "    'https://www.youtube.com/watch?v=4eNt91uV02o'\n",
    "    # Add more video URLs as needed\n",
    "]\n",
    "\n",
    "\n",
    "ydl_opts = {\n",
    "    'format': 'best',  #downloads best quality for now\n",
    "    'outtmpl': '%(title)s-%(id)s.%(ext)s',  \n",
    "    'ignoreerrors': True, \n",
    "}\n",
    "\n",
    "\n",
    "with YoutubeDL(ydl_opts) as ydl:\n",
    "    ydl.download(urls)"
   ]
  },
  {
   "cell_type": "code",
   "execution_count": null,
   "metadata": {},
   "outputs": [],
   "source": []
  }
 ],
 "metadata": {
  "kernelspec": {
   "display_name": "Python 3",
   "language": "python",
   "name": "python3"
  },
  "language_info": {
   "codemirror_mode": {
    "name": "ipython",
    "version": 3
   },
   "file_extension": ".py",
   "mimetype": "text/x-python",
   "name": "python",
   "nbconvert_exporter": "python",
   "pygments_lexer": "ipython3",
   "version": "3.9.6"
  }
 },
 "nbformat": 4,
 "nbformat_minor": 2
}
